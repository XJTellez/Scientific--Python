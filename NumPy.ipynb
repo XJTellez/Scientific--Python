{
  "nbformat": 4,
  "nbformat_minor": 0,
  "metadata": {
    "colab": {
      "provenance": [],
      "collapsed_sections": [
        "fSIq14h_d2tB",
        "IVmV8FqMd20y",
        "KOWqi5wqxd38",
        "6ihZrb0yd28_",
        "Qh_u0FL7mSYJ",
        "5m0aZyArbCkR",
        "dqbj_MgwFC3p",
        "fjZJwpzjFDta",
        "0vtz7D9nFFJt",
        "D-6LxOBIX741",
        "HpUSmtqeBNtE",
        "9HNG9sYrFd1w",
        "yLD7v5FLBPMC",
        "MFq-7qNDnjO0"
      ],
      "include_colab_link": true
    },
    "kernelspec": {
      "name": "python3",
      "display_name": "Python 3"
    }
  },
  "cells": [
    {
      "cell_type": "markdown",
      "metadata": {
        "id": "view-in-github",
        "colab_type": "text"
      },
      "source": [
        "<a href=\"https://colab.research.google.com/github/XJTellez/Scientific--Python/blob/main/NumPy.ipynb\" target=\"_parent\"><img src=\"https://colab.research.google.com/assets/colab-badge.svg\" alt=\"Open In Colab\"/></a>"
      ]
    },
    {
      "cell_type": "markdown",
      "metadata": {
        "id": "bLXZ6IJTUe2K"
      },
      "source": [
        "# NumPy: Creación y manipulación de datos numéricos"
      ]
    },
    {
      "cell_type": "code",
      "metadata": {
        "id": "POwRyMXxMEAr"
      },
      "source": [
        "import numpy as np"
      ],
      "execution_count": null,
      "outputs": []
    },
    {
      "cell_type": "raw",
      "metadata": {
        "id": "p83yqoNZbVzR"
      },
      "source": [
        "## Funciones importantes de numpy"
      ]
    },
    {
      "cell_type": "markdown",
      "metadata": {
        "id": "ouhcPfSKjtBS"
      },
      "source": [
        "### Definir un vector\n",
        "\n",
        "```\n",
        "vector=np.array([[elemento1],[elemento2],[elemento3]])\n",
        "vector=np.array([elemento1,elemento2,elemento3])\n",
        "```\n",
        "\n",
        "La manera más fácil de crear un arreglo es convertir a partir de una lista predeterminada usando el comando `array`."
      ]
    },
    {
      "cell_type": "code",
      "metadata": {
        "id": "xehE7RloD4Jc",
        "outputId": "e85c15e2-35be-4036-d0c1-f6fc15cfa183",
        "colab": {
          "base_uri": "https://localhost:8080/",
          "height": 54
        }
      },
      "source": [
        "vector1=np.array([3, 33, 333])*4\n",
        "print(vector1)\n",
        "\n",
        "vector2=np.array([1, 2, 3, 4], dtype='float32')\n",
        "print(vector2)"
      ],
      "execution_count": null,
      "outputs": [
        {
          "output_type": "stream",
          "text": [
            "[  12  132 1332]\n",
            "[1. 2. 3. 4.]\n"
          ],
          "name": "stdout"
        }
      ]
    },
    {
      "cell_type": "markdown",
      "metadata": {
        "id": "fSIq14h_d2tB"
      },
      "source": [
        "### Definir una matriz\n",
        "Ahora definamos un arreglo bidimensional, algo parecido a una matriz: ahora tenemos renglones y columnas. \n",
        "\n",
        "De igual manera podemos definirlo de igual manera con el comando `array` y una serie de listas que seran interpretadas como las filas de nuestros arreglos\n",
        "```\n",
        "matriz=np.array([\n",
        "  [elemento1],[elemento2],[elemento3],\n",
        "  [elemento1],[elemento2],[elemento3]\n",
        "])\n",
        "```"
      ]
    },
    {
      "cell_type": "code",
      "metadata": {
        "id": "3rRhemhzGO_7",
        "outputId": "d370dbc9-dad4-4e0f-9bc2-6d128a405835",
        "colab": {
          "base_uri": "https://localhost:8080/",
          "height": 72
        }
      },
      "source": [
        "#Arreglo bidimensional\n",
        "matriz=np.array([[11,12,13],[21,22,23]])\n",
        "print(matriz)\n",
        "print()"
      ],
      "execution_count": null,
      "outputs": [
        {
          "output_type": "stream",
          "text": [
            "[[11 12 13]\n",
            " [21 22 23]]\n",
            "\n"
          ],
          "name": "stdout"
        }
      ]
    },
    {
      "cell_type": "code",
      "metadata": {
        "id": "EBtt5jjktVFr",
        "outputId": "d0384536-9f9b-4d51-9f3a-ae424b5cba55",
        "colab": {
          "base_uri": "https://localhost:8080/",
          "height": 72
        }
      },
      "source": [
        "# Matriz con elementos aleatorios\n",
        "np.random.randint(10, size=(3, 4))"
      ],
      "execution_count": null,
      "outputs": [
        {
          "output_type": "execute_result",
          "data": {
            "text/plain": [
              "array([[0, 8, 3, 6],\n",
              "       [6, 4, 0, 3],\n",
              "       [6, 9, 6, 1]])"
            ]
          },
          "metadata": {
            "tags": []
          },
          "execution_count": 12
        }
      ]
    },
    {
      "cell_type": "code",
      "metadata": {
        "id": "D0WOXn6KBa1s",
        "outputId": "a0367358-83e1-4a05-a858-de23da47eb3b",
        "colab": {
          "base_uri": "https://localhost:8080/",
          "height": 54
        }
      },
      "source": [
        "# Creamos unos arreglo para unas pruebas\n",
        "A=np.arange(10)\n",
        "print(A)\n",
        "B=np.arange(2,12)\n",
        "print(B)"
      ],
      "execution_count": null,
      "outputs": [
        {
          "output_type": "stream",
          "text": [
            "[0 1 2 3 4 5 6 7 8 9]\n",
            "[ 2  3  4  5  6  7  8  9 10 11]\n"
          ],
          "name": "stdout"
        }
      ]
    },
    {
      "cell_type": "markdown",
      "metadata": {
        "id": "IVmV8FqMd20y"
      },
      "source": [
        "### Dimensión de vector o matriz\n",
        "\n",
        "```\n",
        "np.shape(vector)\n",
        "np.shape(matriz)\n",
        "```"
      ]
    },
    {
      "cell_type": "code",
      "metadata": {
        "id": "syTbL9TceImB",
        "outputId": "7d6b3558-487e-4e97-894f-f054df373f85",
        "colab": {
          "base_uri": "https://localhost:8080/",
          "height": 54
        }
      },
      "source": [
        "# Método shape \n",
        "print(vector1)\n",
        "print(vector1.shape)"
      ],
      "execution_count": null,
      "outputs": [
        {
          "output_type": "stream",
          "text": [
            "[  12  132 1332]\n",
            "(3,)\n"
          ],
          "name": "stdout"
        }
      ]
    },
    {
      "cell_type": "code",
      "metadata": {
        "id": "CN0fUm9hiSpg",
        "outputId": "46b2e692-ffc2-4879-c5f4-2662f20ed899",
        "colab": {
          "base_uri": "https://localhost:8080/",
          "height": 72
        }
      },
      "source": [
        "# Método shape \n",
        "print(matriz)\n",
        "print(matriz.shape)"
      ],
      "execution_count": null,
      "outputs": [
        {
          "output_type": "stream",
          "text": [
            "[[11 12 13]\n",
            " [21 22 23]]\n",
            "(2, 3)\n"
          ],
          "name": "stdout"
        }
      ]
    },
    {
      "cell_type": "code",
      "metadata": {
        "id": "igC8LNk_eMSR",
        "outputId": "adb1d538-5c3c-4247-e461-3daeb1f5ceb1",
        "colab": {
          "base_uri": "https://localhost:8080/",
          "height": 35
        }
      },
      "source": [
        "# Método size\n",
        "print(vector1.size)"
      ],
      "execution_count": null,
      "outputs": [
        {
          "output_type": "stream",
          "text": [
            "3\n"
          ],
          "name": "stdout"
        }
      ]
    },
    {
      "cell_type": "code",
      "metadata": {
        "id": "-iytZUIbiTEd",
        "outputId": "eb595bf6-e2ab-461a-d565-07a4dea15d0f",
        "colab": {
          "base_uri": "https://localhost:8080/",
          "height": 35
        }
      },
      "source": [
        "# Método size\n",
        "print(matriz.size)"
      ],
      "execution_count": null,
      "outputs": [
        {
          "output_type": "stream",
          "text": [
            "6\n"
          ],
          "name": "stdout"
        }
      ]
    },
    {
      "cell_type": "code",
      "metadata": {
        "id": "B7gQscJPigNy",
        "outputId": "e6f5c4a8-72a6-4a57-e328-09a351ae7b5e",
        "colab": {
          "base_uri": "https://localhost:8080/",
          "height": 54
        }
      },
      "source": [
        "print(vector1.ndim)\n",
        "print(matriz.ndim)"
      ],
      "execution_count": null,
      "outputs": [
        {
          "output_type": "stream",
          "text": [
            "1\n",
            "2\n"
          ],
          "name": "stdout"
        }
      ]
    },
    {
      "cell_type": "code",
      "metadata": {
        "id": "R1cmu9inHoD8",
        "outputId": "0c56dee6-9a9b-4fcc-89c1-6a1d085441cf",
        "colab": {
          "base_uri": "https://localhost:8080/",
          "height": 170
        }
      },
      "source": [
        "# De igual manera podemos comparar los elementos de un array y usar el resultado para filtrar \n",
        "\n",
        "#Seleccionamos a todos los pares\n",
        "a5b=matrix_int % 2==0\n",
        "print('Arreglo de valores boleanos')\n",
        "print(a5b)\n",
        "print()\n",
        "\n",
        "#Arreglo de los valores dados por el filtro\n",
        "a5=matrix_int[a5b]\n",
        "print(a5)"
      ],
      "execution_count": null,
      "outputs": [
        {
          "output_type": "stream",
          "text": [
            "Arreglo de valores boleanos\n",
            "[False False  True  True  True  True False  True  True False  True False\n",
            " False  True False  True False  True False  True  True False  True False\n",
            "  True False  True False False  True False False False  True  True  True\n",
            "  True  True  True  True False  True  True False  True False False  True\n",
            " False  True  True  True False  True False False  True  True  True  True\n",
            " False False  True  True False  True  True False  True  True False False\n",
            " False  True False  True  True  True  True  True False  True  True  True\n",
            " False  True False False  True  True  True  True  True  True False  True\n",
            " False False False  True]\n",
            "\n",
            "[352 832 874  70   4 764 246  78 126 634 734 530 508  70 360 212 196   2\n",
            " 686 650 936 328 810 112 158  42 798 750 664 776  88 602 318 926 154  18\n",
            " 982 770 644 404 684 866 366  74  76 980 546 572 338  40 900 536 916 578\n",
            "  20 348 510 348 600]\n"
          ],
          "name": "stdout"
        }
      ]
    },
    {
      "cell_type": "markdown",
      "metadata": {
        "id": "6ihZrb0yd28_"
      },
      "source": [
        "### Producto Punto\n",
        "```\n",
        "vector.dot(vector)\n",
        "```"
      ]
    },
    {
      "cell_type": "code",
      "metadata": {
        "id": "_FpS5UlNkVUz",
        "outputId": "6d4e7667-8727-46be-b9ab-f9d3abf303d9",
        "colab": {
          "base_uri": "https://localhost:8080/",
          "height": 35
        }
      },
      "source": [
        "arreglo.dot(arreglo)"
      ],
      "execution_count": null,
      "outputs": [
        {
          "output_type": "execute_result",
          "data": {
            "text/plain": [
              "1791792"
            ]
          },
          "metadata": {
            "tags": []
          },
          "execution_count": 21
        }
      ]
    },
    {
      "cell_type": "code",
      "metadata": {
        "outputId": "9743fc7d-99cd-4e07-df8f-2e081697dd07",
        "id": "jQmNGYrXl5Qk",
        "colab": {
          "base_uri": "https://localhost:8080/",
          "height": 35
        }
      },
      "source": [
        "matriz.dot(arreglo)"
      ],
      "execution_count": null,
      "outputs": [
        {
          "output_type": "execute_result",
          "data": {
            "text/plain": [
              "array([19032, 33792])"
            ]
          },
          "metadata": {
            "tags": []
          },
          "execution_count": 36
        }
      ]
    },
    {
      "cell_type": "code",
      "metadata": {
        "id": "XkPc6axRSuBQ",
        "outputId": "8faeffd9-2a49-4475-dffb-ebb9f1287573",
        "colab": {
          "base_uri": "https://localhost:8080/",
          "height": 136
        }
      },
      "source": [
        "A1 = np.array([[1,1],[1,1]])\n",
        "A2 = np.array([[2,2],[2,2]])\n",
        "\n",
        "print('A1=')\n",
        "print(A1)\n",
        "print()\n",
        "print('A2=')\n",
        "print(A2)"
      ],
      "execution_count": null,
      "outputs": [
        {
          "output_type": "stream",
          "text": [
            "A1=\n",
            "[[1 1]\n",
            " [1 1]]\n",
            "\n",
            "A2=\n",
            "[[2 2]\n",
            " [2 2]]\n"
          ],
          "name": "stdout"
        }
      ]
    },
    {
      "cell_type": "markdown",
      "metadata": {
        "id": "ybuL7QN9a9mW"
      },
      "source": [
        "## Operaciones Básicas"
      ]
    },
    {
      "cell_type": "markdown",
      "metadata": {
        "id": "Qh_u0FL7mSYJ"
      },
      "source": [
        "### Ejercicios de vectores"
      ]
    },
    {
      "cell_type": "markdown",
      "metadata": {
        "id": "pYJalDlKImPM"
      },
      "source": [
        "Instrucciones define los dos siguientes conjuntos de vectores y realiza las siguientes operaciones:\n",
        "\n",
        "$\\vec{v}_1 = \\begin{pmatrix} 1 \\\\ 2 \\\\ 3 \\end{pmatrix}, \\vec{v}_2 = \\begin{pmatrix} 2 \\\\ -1 \\\\ -1 \\end{pmatrix}, \\vec{v}_3 = \\begin{pmatrix} 1 \\\\ -2 \\\\ -1 \\end{pmatrix}$\n",
        "\n",
        "\n",
        "$\\vec{w}_1 = \\begin{pmatrix} 3 \\\\ 5 \\\\ 1 \\end{pmatrix} , \\vec{w}_2 = \\begin{pmatrix} 0 \\\\ 2 \\\\ -1 \\end{pmatrix} ,\\vec{w}_3 = \\begin{pmatrix} 1 \\\\ 0 \\\\ 4 \\end{pmatrix} $\n",
        "\n",
        "1. Suma\n",
        "2. Resta\n",
        "3. Multiplicación por un escalar\n",
        "4. Producto punto "
      ]
    },
    {
      "cell_type": "code",
      "metadata": {
        "id": "jt5n75--ImPP"
      },
      "source": [
        "v1=np.array([[1],[2],[3]])\n",
        "v2=np.array([[2],[-1],[-1]])\n",
        "v3=np.array([[1],[-2],[-1]])\n",
        "w1=np.array([[3],[5],[1]])\n",
        "w2=np.array([[0],[2],[-1]])\n",
        "w3=np.array([[1],[0],[4]])"
      ],
      "execution_count": null,
      "outputs": []
    },
    {
      "cell_type": "code",
      "metadata": {
        "id": "Kah-0FoxnCM2",
        "outputId": "e5d4ae73-0376-4ce9-a0da-b8745eff9a8d",
        "colab": {
          "base_uri": "https://localhost:8080/",
          "height": 90
        }
      },
      "source": [
        "print(np.sum(v1))\n",
        "\n",
        "print('Suma horizontalmente',np.sum(v1,axis=0))\n",
        "print()\n",
        "print('Suma verticalmente',np.sum(v1,axis=1))"
      ],
      "execution_count": null,
      "outputs": [
        {
          "output_type": "stream",
          "text": [
            "6\n",
            "Suma horizontalmente [6]\n",
            "\n",
            "Suma verticalmente [1 2 3]\n"
          ],
          "name": "stdout"
        }
      ]
    },
    {
      "cell_type": "markdown",
      "metadata": {
        "id": "5m0aZyArbCkR"
      },
      "source": [
        "### Ejercicios de matrices\n"
      ]
    },
    {
      "cell_type": "markdown",
      "metadata": {
        "id": "TApVVrwfrt3Q"
      },
      "source": [
        "Instrucciones define los dos siguientes conjuntos de vectores y realiza las siguientes operaciones:\n",
        "\n",
        "\\begin{equation*}\n",
        "A = \n",
        "\\begin{pmatrix}\n",
        "0 & 7 & 3 & 5 \\\\\n",
        "1 & 0 & 2 & 4 \\\\\n",
        "6 & 2 & 5 & 0\n",
        "\\end{pmatrix}\n",
        "\\end{equation*}\n",
        "\n",
        "\\begin{equation*}\n",
        "B = \n",
        "\\begin{bmatrix}\n",
        "7 & 2 & 9 & 3 \\\\\n",
        "2 & 4 & 1 & 1 \\\\\n",
        "5 & 4 & 3 & 3 \\\\\n",
        "\\end{bmatrix}\n",
        "\\end{equation*}\n",
        "\n",
        "1. Suma\n",
        "2. Resta\n",
        "3. Multiplicación por un escalar\n",
        "4. Producto de matrices\n",
        "5. Transponer la matriz A"
      ]
    },
    {
      "cell_type": "code",
      "metadata": {
        "id": "zOqJZjHjrtcd",
        "outputId": "87aa3d13-662f-4c04-ae41-f2ea95b0c2b1",
        "colab": {
          "base_uri": "https://localhost:8080/",
          "height": 146
        }
      },
      "source": [
        "A = np.array([\n",
        "    [0,7,3,5],\n",
        "    [1,0,2,4],\n",
        "    [6,2,5,0]\n",
        "])\n",
        "B = np.array([\n",
        "    [7,2,9,3],\n",
        "    [2,4,1,1],\n",
        "    [5,4,3,3]\n",
        "])\n",
        "print(A,\"\\n\\n\", B)"
      ],
      "execution_count": null,
      "outputs": [
        {
          "output_type": "stream",
          "text": [
            "[[0 7 3 5]\n",
            " [1 0 2 4]\n",
            " [6 2 5 0]] \n",
            "\n",
            " [[7 2 9 3]\n",
            " [2 4 1 1]\n",
            " [5 4 3 3]]\n"
          ],
          "name": "stdout"
        }
      ]
    },
    {
      "cell_type": "code",
      "metadata": {
        "id": "sWEfS9ZeuZ6v",
        "outputId": "e4fb7137-0443-4113-d8fc-e7de5d0265d6",
        "colab": {
          "base_uri": "https://localhost:8080/",
          "height": 72
        }
      },
      "source": [
        "A*B"
      ],
      "execution_count": null,
      "outputs": [
        {
          "output_type": "execute_result",
          "data": {
            "text/plain": [
              "array([[ 0, 14, 27, 15],\n",
              "       [ 2,  0,  2,  4],\n",
              "       [30,  8, 15,  0]])"
            ]
          },
          "metadata": {
            "tags": []
          },
          "execution_count": 28
        }
      ]
    },
    {
      "cell_type": "code",
      "metadata": {
        "id": "HkmwIC5xublK",
        "outputId": "0061fd2c-88d7-4721-8aaa-6df58199e987",
        "colab": {
          "base_uri": "https://localhost:8080/",
          "height": 72
        }
      },
      "source": [
        "B*A"
      ],
      "execution_count": null,
      "outputs": [
        {
          "output_type": "execute_result",
          "data": {
            "text/plain": [
              "array([[ 0, 14, 27, 15],\n",
              "       [ 2,  0,  2,  4],\n",
              "       [30,  8, 15,  0]])"
            ]
          },
          "metadata": {
            "tags": []
          },
          "execution_count": 51
        }
      ]
    },
    {
      "cell_type": "markdown",
      "metadata": {
        "id": "EmcUFlY8qGjR"
      },
      "source": [
        "## Matrices especiales"
      ]
    },
    {
      "cell_type": "markdown",
      "metadata": {
        "id": "dqbj_MgwFC3p"
      },
      "source": [
        "#### Matriz Identidad\n",
        "En la multiplicación en álgebra el 1 es el elemento neutro del producto. En álgebra lineal (matrices) la matriz identidad es el elemento neutro en la multiplicaicón de matrices, es decir:\n",
        "```\n",
        "A = matriz\n",
        "I = matriz identidad \n",
        "```\n",
        "$$ A * I = A $$\n",
        "Donde la matriz identidad debe tener el mismo número de filas y columnas (cuadrada). Compuesta con 0 en toda la matriz, con excepción de diagonal principal que tendrá 1."
      ]
    },
    {
      "cell_type": "code",
      "metadata": {
        "id": "Ne--qAgoFCJv",
        "outputId": "daf2e225-5aeb-455a-9b0c-8d7a670db5ef",
        "colab": {
          "base_uri": "https://localhost:8080/",
          "height": 164
        }
      },
      "source": [
        "matriz_cuadrada = np.random.randint(1, 10, 16).reshape(4,4)\n",
        "rows = matriz_cuadrada.shape[0]\n",
        "print(matriz_cuadrada)\n",
        "I = np.eye(rows,dtype=np.int16)\n",
        "I"
      ],
      "execution_count": null,
      "outputs": [
        {
          "output_type": "stream",
          "text": [
            "[[1 4 3 2]\n",
            " [3 1 2 7]\n",
            " [8 6 1 2]\n",
            " [6 7 3 1]]\n"
          ],
          "name": "stdout"
        },
        {
          "output_type": "execute_result",
          "data": {
            "text/plain": [
              "array([[1, 0, 0, 0],\n",
              "       [0, 1, 0, 0],\n",
              "       [0, 0, 1, 0],\n",
              "       [0, 0, 0, 1]], dtype=int16)"
            ]
          },
          "metadata": {
            "tags": []
          },
          "execution_count": 40
        }
      ]
    },
    {
      "cell_type": "code",
      "metadata": {
        "id": "5bG4lQrCYyTP",
        "outputId": "ac19c511-4345-4887-b778-c4a486695c27",
        "colab": {
          "base_uri": "https://localhost:8080/",
          "height": 90
        }
      },
      "source": [
        "np.dot(matriz_cuadrada,I)"
      ],
      "execution_count": null,
      "outputs": [
        {
          "output_type": "execute_result",
          "data": {
            "text/plain": [
              "array([[1, 4, 3, 2],\n",
              "       [3, 1, 2, 7],\n",
              "       [8, 6, 1, 2],\n",
              "       [6, 7, 3, 1]])"
            ]
          },
          "metadata": {
            "tags": []
          },
          "execution_count": 41
        }
      ]
    },
    {
      "cell_type": "code",
      "metadata": {
        "id": "IWyDRuiybj-Z",
        "outputId": "cca7ad71-e0dc-4d6d-9619-546dde368b66",
        "colab": {
          "base_uri": "https://localhost:8080/",
          "height": 90
        }
      },
      "source": [
        "matriz_cuadrada @ I"
      ],
      "execution_count": null,
      "outputs": [
        {
          "output_type": "execute_result",
          "data": {
            "text/plain": [
              "array([[1, 4, 3, 2],\n",
              "       [3, 1, 2, 7],\n",
              "       [8, 6, 1, 2],\n",
              "       [6, 7, 3, 1]])"
            ]
          },
          "metadata": {
            "tags": []
          },
          "execution_count": 42
        }
      ]
    },
    {
      "cell_type": "code",
      "metadata": {
        "id": "w2d13QMVNdZ6",
        "outputId": "374afbed-cb2b-47f1-a513-f5ce5c1aae0d",
        "colab": {
          "base_uri": "https://localhost:8080/",
          "height": 90
        }
      },
      "source": [
        "matriz_cuadrada * I"
      ],
      "execution_count": null,
      "outputs": [
        {
          "output_type": "execute_result",
          "data": {
            "text/plain": [
              "array([[1, 0, 0, 0],\n",
              "       [0, 1, 0, 0],\n",
              "       [0, 0, 1, 0],\n",
              "       [0, 0, 0, 1]])"
            ]
          },
          "metadata": {
            "tags": []
          },
          "execution_count": 43
        }
      ]
    },
    {
      "cell_type": "markdown",
      "metadata": {
        "id": "fjZJwpzjFDta"
      },
      "source": [
        "#### Matriz inversa\n",
        "¿Recuerdas el concepto del recíproco o inverso de un número x (no nulo)? Se  denota como:\n",
        "\n",
        "$$f(x)^{-1} = \\frac{1}{x}$$\n",
        "\n",
        "Este número si lo multiplicamos por x da 1 como resultado.\n",
        "$$ \\frac{1}{x} * x = 1$$\n",
        "\n",
        "Algo similar sucede con la inversa de una matriz. El cual se cálcula utilizando la matriz identidad. Al tener una matriz A, la matriz inversa de A, que se representa como \n",
        "$$A^{-1}$$ \n",
        "y\n",
        "$$ A * A^{-1}  = I $$ \n",
        "Por lo que esta matriz es la recíproca de A.\n",
        "\n",
        "**Nota 1**: la matriz debe ser cuadrada.\n",
        "\n",
        "**Nota 2**: Tener en cuenta que esta matriz inversa en muchos casos **puede no existir**.En este caso se dice que la matriz es singular o degenerada. Una matriz es singular si y solo si su determinante es nulo."
      ]
    },
    {
      "cell_type": "code",
      "metadata": {
        "id": "8Bg58wuvFDti",
        "outputId": "153d739e-f0bb-4709-c032-f5230a4b5275",
        "colab": {
          "base_uri": "https://localhost:8080/",
          "height": 90
        }
      },
      "source": [
        "matriz_cuadrada_inversa = np.linalg.inv(matriz_cuadrada)\n",
        "matriz_cuadrada_inversa"
      ],
      "execution_count": null,
      "outputs": [
        {
          "output_type": "execute_result",
          "data": {
            "text/plain": [
              "array([[-0.6,  0.2, -0.3,  0.6],\n",
              "       [ 0.9, -0.3,  0.7, -0.9],\n",
              "       [-0.9,  0.3, -1. ,  1.3],\n",
              "       [ 0.4,  0. ,  0.3, -0.5]])"
            ]
          },
          "metadata": {
            "tags": []
          },
          "execution_count": 47
        }
      ]
    },
    {
      "cell_type": "code",
      "metadata": {
        "id": "6cUnuROnF3tY",
        "outputId": "9d5a1093-fa33-49d8-d0d9-6fc5cb4a5ab3",
        "colab": {
          "base_uri": "https://localhost:8080/",
          "height": 90
        }
      },
      "source": [
        "matriz_cuadrada"
      ],
      "execution_count": null,
      "outputs": [
        {
          "output_type": "execute_result",
          "data": {
            "text/plain": [
              "array([[1, 4, 3, 2],\n",
              "       [3, 1, 2, 7],\n",
              "       [8, 6, 1, 2],\n",
              "       [6, 7, 3, 1]])"
            ]
          },
          "metadata": {
            "tags": []
          },
          "execution_count": 46
        }
      ]
    },
    {
      "cell_type": "code",
      "metadata": {
        "id": "WIrd6b51a78F",
        "outputId": "2575b6b0-bbb1-4f8e-8179-6ff3b92c619a",
        "colab": {
          "base_uri": "https://localhost:8080/",
          "height": 90
        }
      },
      "source": [
        "matriz_identidad = matriz_cuadrada_inversa.dot(matriz_cuadrada)\n",
        "matriz_identidad.round(decimals=1)"
      ],
      "execution_count": null,
      "outputs": [
        {
          "output_type": "execute_result",
          "data": {
            "text/plain": [
              "array([[ 1., -0., -0., -0.],\n",
              "       [-0.,  1.,  0.,  0.],\n",
              "       [ 0.,  0.,  1., -0.],\n",
              "       [ 0.,  0.,  0.,  1.]])"
            ]
          },
          "metadata": {
            "tags": []
          },
          "execution_count": 56
        }
      ]
    },
    {
      "cell_type": "markdown",
      "metadata": {
        "id": "VhIkXKFbFQQh"
      },
      "source": [
        "#### Determinante de una matriz\n",
        "Número que se calcula como la suma de los productos de las diagonales de la matriz en una dirección menos la suma de los productos de las diagonales en la otra dirección.\n",
        "$$|A|$$"
      ]
    },
    {
      "cell_type": "code",
      "metadata": {
        "id": "tyrjhYcdFQcK",
        "outputId": "2e01a016-85aa-4c00-fe42-6ee16a726e34",
        "colab": {
          "base_uri": "https://localhost:8080/",
          "height": 35
        }
      },
      "source": [
        "np.linalg.det(matriz_cuadrada)"
      ],
      "execution_count": null,
      "outputs": [
        {
          "output_type": "execute_result",
          "data": {
            "text/plain": [
              "15475806.00000002"
            ]
          },
          "metadata": {
            "tags": []
          },
          "execution_count": 15
        }
      ]
    },
    {
      "cell_type": "markdown",
      "metadata": {
        "id": "0vtz7D9nFFJt"
      },
      "source": [
        "#### Matriz transpuesta\n",
        "Aquella en que las filas se transforman en columnas y las columnas en filas. Se representa con el símbolo A⊺\n",
        "$$A^T$$"
      ]
    },
    {
      "cell_type": "code",
      "metadata": {
        "id": "HxzjE4GlFFJy",
        "outputId": "39d7cb9d-0c83-4d52-b2ce-6c349e50a673",
        "colab": {
          "base_uri": "https://localhost:8080/",
          "height": 90
        }
      },
      "source": [
        "np.transpose(matriz_cuadrada)"
      ],
      "execution_count": null,
      "outputs": [
        {
          "output_type": "execute_result",
          "data": {
            "text/plain": [
              "array([[10, 92, 93, 29],\n",
              "       [25, 56, 93, 89],\n",
              "       [73, 94, 60, 12],\n",
              "       [43, 66, 15, 16]])"
            ]
          },
          "metadata": {
            "tags": []
          },
          "execution_count": 21
        }
      ]
    },
    {
      "cell_type": "markdown",
      "metadata": {
        "id": "D-6LxOBIX741"
      },
      "source": [
        "## Explorando más Funciones Básica en NumPy"
      ]
    },
    {
      "cell_type": "code",
      "metadata": {
        "outputId": "654745c7-63d0-4a9e-9e65-c00826ef76ef",
        "id": "99E4KNAAFdPt",
        "colab": {
          "base_uri": "https://localhost:8080/",
          "height": 146
        }
      },
      "source": [
        "# Media del arreglo\n",
        "matriz = np.random.randint(10, size=6).reshape(2,3)\n",
        "a1=np.mean(matriz)\n",
        "print(a1)\n",
        "print()\n",
        "\n",
        "# Media de cada una de las filas \n",
        "a2=np.mean(matriz,axis=1)\n",
        "print(a2)\n",
        "print()\n",
        "\n",
        "# Mediana del arreglo\n",
        "a3=np.median(matriz)\n",
        "print(a3)\n",
        "print()\n",
        "\n",
        "# Desviación estándar del arreglo \n",
        "a4=np.std(matriz)\n",
        "print(a4)"
      ],
      "execution_count": null,
      "outputs": [
        {
          "output_type": "stream",
          "text": [
            "4.666666666666667\n",
            "\n",
            "[5.333333333 4.         ]\n",
            "\n",
            "4.0\n",
            "\n",
            "2.6246692913372702\n"
          ],
          "name": "stdout"
        }
      ]
    },
    {
      "cell_type": "code",
      "metadata": {
        "outputId": "c97d5d6d-a554-4ca1-d16a-c8a219224fa1",
        "id": "9Kt4iRZoFdQH",
        "colab": {
          "base_uri": "https://localhost:8080/",
          "height": 72
        }
      },
      "source": [
        "# Máximo valor en el arreglo\n",
        "print('Maximo=',np.amax(matriz))\n",
        "\n",
        "\n",
        "# Minimo valor en el arreglo \n",
        "print('Mínimo=',np.amin(matriz))\n",
        "\n",
        "# Rango del Arreglo -> R= max(A)-min(A)\n",
        "print('Rango=',np.ptp(matriz))\n"
      ],
      "execution_count": null,
      "outputs": [
        {
          "output_type": "stream",
          "text": [
            "Maximo= 9\n",
            "Mínimo= 2\n",
            "Rango= 7\n"
          ],
          "name": "stdout"
        }
      ]
    },
    {
      "cell_type": "markdown",
      "metadata": {
        "id": "8l7pdeetBFbU"
      },
      "source": [
        "### Orden \n"
      ]
    },
    {
      "cell_type": "code",
      "metadata": {
        "id": "DSeLzAPKOY0R",
        "outputId": "3b7a0950-b407-442e-abcb-e30777045a1c",
        "colab": {
          "base_uri": "https://localhost:8080/",
          "height": 54
        }
      },
      "source": [
        "# create a 10 element array of randoms\n",
        "desord = np.random.randn(10)\n",
        "\n",
        "print(desord)"
      ],
      "execution_count": null,
      "outputs": [
        {
          "output_type": "stream",
          "text": [
            "[-0.895547703  1.05697263   0.288890459 -1.734783933 -0.24730777\n",
            "  2.091793597  1.174744153  0.291956027  0.638910228  1.916188501]\n"
          ],
          "name": "stdout"
        }
      ]
    },
    {
      "cell_type": "code",
      "metadata": {
        "id": "t8fourS-X3BI",
        "outputId": "48cc5bd3-6548-4771-ece3-b1f0dc4df95c",
        "colab": {
          "base_uri": "https://localhost:8080/",
          "height": 35
        }
      },
      "source": [
        "# Encontrando valores únicas\n",
        "\n",
        "arreglo = np.array([1,2,1,4,2,1,4,2])\n",
        "\n",
        "print(np.unique(arreglo))"
      ],
      "execution_count": null,
      "outputs": [
        {
          "output_type": "stream",
          "text": [
            "[1 2 4]\n"
          ],
          "name": "stdout"
        }
      ]
    },
    {
      "cell_type": "code",
      "metadata": {
        "id": "n47KCFgnOcWp",
        "outputId": "558d4201-dc6b-40a6-e428-ce3ce8e3d06b",
        "colab": {
          "base_uri": "https://localhost:8080/",
          "height": 146
        }
      },
      "source": [
        "# Crear una copia y ordenarla \n",
        "ord = np.array(desord)\n",
        "ord.sort()\n",
        "\n",
        "print('Desordenados')\n",
        "print(desord)\n",
        "print()\n",
        "print('Ordenados')\n",
        "print(ord)"
      ],
      "execution_count": null,
      "outputs": [
        {
          "output_type": "stream",
          "text": [
            "Desordenados\n",
            "[-0.895547703  1.05697263   0.288890459 -1.734783933 -0.24730777\n",
            "  2.091793597  1.174744153  0.291956027  0.638910228  1.916188501]\n",
            "\n",
            "Ordenados\n",
            "[-1.734783933 -0.895547703 -0.24730777   0.288890459  0.291956027\n",
            "  0.638910228  1.05697263   1.174744153  1.916188501  2.091793597]\n"
          ],
          "name": "stdout"
        }
      ]
    },
    {
      "cell_type": "code",
      "metadata": {
        "id": "0lNjW3QvRWL8",
        "outputId": "5959246d-2f71-4dec-a86d-0ac14ca3e4b9",
        "colab": {
          "base_uri": "https://localhost:8080/",
          "height": 72
        }
      },
      "source": [
        "# Obtener los indices que ordenerian el arreglo\n",
        "ind=desord.argsort()\n",
        "print('Indices: ',ind)\n",
        "\n",
        "# Colocamos los indices para que se ordenen \n",
        "print(desord[ind])\n",
        "\n"
      ],
      "execution_count": null,
      "outputs": [
        {
          "output_type": "stream",
          "text": [
            "Indices:  [3 0 4 2 7 8 1 6 9 5]\n",
            "[-1.734783933 -0.895547703 -0.24730777   0.288890459  0.291956027\n",
            "  0.638910228  1.05697263   1.174744153  1.916188501  2.091793597]\n"
          ],
          "name": "stdout"
        }
      ]
    },
    {
      "cell_type": "markdown",
      "metadata": {
        "id": "HpUSmtqeBNtE"
      },
      "source": [
        "### Forma \n",
        "reshape\n",
        "transpose \n",
        "vstack \n",
        "hstack \n",
        "contatenados \n",
        "ravle \n",
        "\n"
      ]
    },
    {
      "cell_type": "code",
      "metadata": {
        "id": "garSLcQ-bVyk",
        "outputId": "ba53fda4-06d0-4561-ae85-e30984f6cc3e",
        "colab": {
          "base_uri": "https://localhost:8080/",
          "height": 164
        }
      },
      "source": [
        "# Creamos un arreglo unidimensional de 0 al 19\n",
        "arr = np.arange(20)\n",
        "print('Original')\n",
        "print(arr)\n",
        "print()\n",
        "\n",
        "# Le cambiamos la forma para que sea un arreglo de 4 x 5 \n",
        "print('Reacomodo')\n",
        "ARR=arr.reshape(4,5)\n",
        "print(ARR)"
      ],
      "execution_count": null,
      "outputs": [
        {
          "output_type": "stream",
          "text": [
            "Original\n",
            "[ 0  1  2  3  4  5  6  7  8  9 10 11 12 13 14 15 16 17 18 19]\n",
            "\n",
            "Reacomodo\n",
            "[[ 0  1  2  3  4]\n",
            " [ 5  6  7  8  9]\n",
            " [10 11 12 13 14]\n",
            " [15 16 17 18 19]]\n"
          ],
          "name": "stdout"
        }
      ]
    },
    {
      "cell_type": "code",
      "metadata": {
        "id": "4gA0Fi-Zbkq1",
        "outputId": "7acfe29d-2423-48be-fa18-16d3e0a5e9bd",
        "colab": {
          "base_uri": "https://localhost:8080/",
          "height": 109
        }
      },
      "source": [
        "# Transposición: cambio de columnas por filas y viceversa\n",
        "print(ARR.T)"
      ],
      "execution_count": null,
      "outputs": [
        {
          "output_type": "stream",
          "text": [
            "[[ 0  5 10 15]\n",
            " [ 1  6 11 16]\n",
            " [ 2  7 12 17]\n",
            " [ 3  8 13 18]\n",
            " [ 4  9 14 19]]\n"
          ],
          "name": "stdout"
        }
      ]
    },
    {
      "cell_type": "code",
      "metadata": {
        "id": "sTqa0_qwcd5f",
        "outputId": "4ddef621-4cfc-4d6c-fb1a-5a7f5b6834ca",
        "colab": {
          "base_uri": "https://localhost:8080/",
          "height": 35
        }
      },
      "source": [
        "# Aplanamos el arreglo de dos dimensiones para que sea de nuevo de uno\n",
        "print(np.ravel(ARR))"
      ],
      "execution_count": null,
      "outputs": [
        {
          "output_type": "stream",
          "text": [
            "[ 0  1  2  3  4  5  6  7  8  9 10 11 12 13 14 15 16 17 18 19]\n"
          ],
          "name": "stdout"
        }
      ]
    },
    {
      "cell_type": "code",
      "metadata": {
        "id": "0BBfCKIacFCq",
        "outputId": "6eeea6e8-73ec-4c9c-e2c8-71b98e828e34",
        "colab": {
          "base_uri": "https://localhost:8080/",
          "height": 146
        }
      },
      "source": [
        "#Creamos dos arreglos de 2 dimensiones que solo contengan enteros aleatoriamente \n",
        "K = np.random.randint(low=2,high=50,size=(2,2))\n",
        "print('K=')\n",
        "print(K)\n",
        "print()\n",
        "print('M=')\n",
        "M = np.random.randint(low=2,high=50,size=(2,2))\n",
        "print(M)"
      ],
      "execution_count": null,
      "outputs": [
        {
          "output_type": "stream",
          "text": [
            "K=\n",
            "[[43 11]\n",
            " [42 34]]\n",
            "\n",
            "M=\n",
            "[[21 27]\n",
            " [12 20]]\n"
          ],
          "name": "stdout"
        }
      ]
    },
    {
      "cell_type": "code",
      "metadata": {
        "id": "OmrHWMh9cJrt",
        "outputId": "d53f5023-e261-4d3f-d6e2-ccfe6b39de57",
        "colab": {
          "base_uri": "https://localhost:8080/",
          "height": 201
        }
      },
      "source": [
        "# Concatenación vertical\n",
        "\n",
        "#Forma 1\n",
        "VS=np.vstack((K,M))\n",
        "\n",
        "#Forma 2 \n",
        "VS2=np.concatenate([K, M], axis = 0)\n",
        "\n",
        "\n",
        "print('Concatenado vertical')\n",
        "print(VS)\n",
        "print()\n",
        "print(VS2)"
      ],
      "execution_count": null,
      "outputs": [
        {
          "output_type": "stream",
          "text": [
            "Concatenado vertical\n",
            "[[43 11]\n",
            " [42 34]\n",
            " [21 27]\n",
            " [12 20]]\n",
            "\n",
            "[[43 11]\n",
            " [42 34]\n",
            " [21 27]\n",
            " [12 20]]\n"
          ],
          "name": "stdout"
        }
      ]
    },
    {
      "cell_type": "code",
      "metadata": {
        "id": "xyKVGCZacLyc",
        "outputId": "6a7586da-3a6b-43b3-a6e7-de3d615ba84f",
        "colab": {
          "base_uri": "https://localhost:8080/",
          "height": 127
        }
      },
      "source": [
        "# Concatenación horizontal\n",
        "\n",
        "#Forma 1\n",
        "VH=np.hstack((K,M))\n",
        "\n",
        "#Forma 2 \n",
        "VH2=np.concatenate([K, M.T], axis = 1)\n",
        "\n",
        "print('Concatenado horizontal')\n",
        "print(VH)\n",
        "print()\n",
        "print(VH2)"
      ],
      "execution_count": null,
      "outputs": [
        {
          "output_type": "stream",
          "text": [
            "Concatenado horizontal\n",
            "[[43 11 21 27]\n",
            " [42 34 12 20]]\n",
            "\n",
            "[[43 11 21 12]\n",
            " [42 34 27 20]]\n"
          ],
          "name": "stdout"
        }
      ]
    },
    {
      "cell_type": "markdown",
      "metadata": {
        "id": "l0o3uVdABKSS"
      },
      "source": [
        "### Broadcasting \n",
        "\n",
        "Una de las ventajas que nos ofrece numpy es poder operar elementos de arreglos de diferentes tamaños y esto se llama broadcasting. \n"
      ]
    },
    {
      "cell_type": "code",
      "metadata": {
        "id": "H9d0Di-gY_Eb",
        "outputId": "3b6aeca5-ce4e-4e61-b9f8-6fbf6e90babb",
        "colab": {
          "base_uri": "https://localhost:8080/",
          "height": 90
        }
      },
      "source": [
        "A = np.zeros((4,3))\n",
        "print(A)"
      ],
      "execution_count": null,
      "outputs": [
        {
          "output_type": "stream",
          "text": [
            "[[0. 0. 0.]\n",
            " [0. 0. 0.]\n",
            " [0. 0. 0.]\n",
            " [0. 0. 0.]]\n"
          ],
          "name": "stdout"
        }
      ]
    },
    {
      "cell_type": "code",
      "metadata": {
        "id": "_JdOdYppZF91",
        "outputId": "4431d194-a315-4330-d78e-abfba80dee28",
        "colab": {
          "base_uri": "https://localhost:8080/",
          "height": 366
        }
      },
      "source": [
        "#Suma en cada fila los elementos del vector \n",
        "\n",
        "print('Vector renglon VR',np.array([2,4,1]))\n",
        "print()\n",
        "print('Operacion A+VR ')\n",
        "print(A+np.array([2,3,1]))\n",
        "print()\n",
        "\n",
        "\n",
        "#Ahora suma las columnas\n",
        "print('Vector columna VC')\n",
        "print(np.array([[2],[3],[1],[0]]))\n",
        "print()\n",
        "print('Operacion A+VC ')\n",
        "print(A+np.array([[2],[3],[1],[0]]))\n"
      ],
      "execution_count": null,
      "outputs": [
        {
          "output_type": "stream",
          "text": [
            "Vector renglon VR [2 4 1]\n",
            "\n",
            "Operacion A+VR \n",
            "[[2. 3. 1.]\n",
            " [2. 3. 1.]\n",
            " [2. 3. 1.]\n",
            " [2. 3. 1.]]\n",
            "\n",
            "Vector columna VC\n",
            "[[2]\n",
            " [3]\n",
            " [1]\n",
            " [0]]\n",
            "\n",
            "Operacion A+VC \n",
            "[[2. 2. 2.]\n",
            " [3. 3. 3.]\n",
            " [1. 1. 1.]\n",
            " [0. 0. 0.]]\n"
          ],
          "name": "stdout"
        }
      ]
    },
    {
      "cell_type": "markdown",
      "metadata": {
        "id": "9HNG9sYrFd1w"
      },
      "source": [
        "### Funciones universales\n",
        " \n",
        " Son todas aquellas funciones típicas encontradas en las operaciones matemáticas\n",
        " \n",
        "* **Operaciones matemáticas básicas:**  Suma de elementos, producto de elementos, redondeo, divisiones, logaritmos, raices, exponentes, signo, etc.  \n",
        "\n",
        "* **Funciones tringonométricas:** seno, coseno, tangente, funciones hiperbólicas, etc\n",
        "\n",
        "* **Funciones lógicas:** and, or, xor, not, etc. \n",
        "\n",
        "* **Comparaciones: **  mayor que, menor que, igual que, etc. \n",
        "  \n"
      ]
    },
    {
      "cell_type": "code",
      "metadata": {
        "id": "yH5f_XJ6JORm",
        "outputId": "5882f39d-4369-404e-8853-672ebd0a888b",
        "colab": {
          "base_uri": "https://localhost:8080/",
          "height": 35
        }
      },
      "source": [
        "#Funcion suma \n",
        "# sum vs np.sum\n",
        "print('sum(A) ',np.sum(matriz))"
      ],
      "execution_count": null,
      "outputs": [
        {
          "output_type": "stream",
          "text": [
            "sum(A)  28\n"
          ],
          "name": "stdout"
        }
      ]
    },
    {
      "cell_type": "code",
      "metadata": {
        "id": "ajnevTWZK5Ls"
      },
      "source": [
        "large_array = np.random.randint(1, 100, size=1000000)"
      ],
      "execution_count": null,
      "outputs": []
    },
    {
      "cell_type": "code",
      "metadata": {
        "id": "sfUGGPW2JXe0",
        "outputId": "900e39ff-6ff1-4dfa-a6ec-ef8b3b466c8b",
        "colab": {
          "base_uri": "https://localhost:8080/",
          "height": 35
        }
      },
      "source": [
        "%timeit sum(large_array)"
      ],
      "execution_count": null,
      "outputs": [
        {
          "output_type": "stream",
          "text": [
            "10 loops, best of 3: 167 ms per loop\n"
          ],
          "name": "stdout"
        }
      ]
    },
    {
      "cell_type": "code",
      "metadata": {
        "id": "iMRWTjZVK8NJ",
        "outputId": "98ba64b4-2adf-4fe0-abd9-0b3f24c9574e",
        "colab": {
          "base_uri": "https://localhost:8080/",
          "height": 35
        }
      },
      "source": [
        "%timeit np.sum(large_array)"
      ],
      "execution_count": null,
      "outputs": [
        {
          "output_type": "stream",
          "text": [
            "1000 loops, best of 3: 705 µs per loop\n"
          ],
          "name": "stdout"
        }
      ]
    },
    {
      "cell_type": "code",
      "metadata": {
        "id": "mCc4PUjBJQBT",
        "outputId": "b5154ff6-afdb-410f-ebb3-5e34cdbabccc",
        "colab": {
          "base_uri": "https://localhost:8080/",
          "height": 164
        }
      },
      "source": [
        "#Función add\n",
        "print('np.add(A,B)=', np.add(matriz,matriz))\n",
        "print()\n",
        "\n",
        "#Función seno\n",
        "print('np.sin(A)=', np.sin(A))\n",
        "print()"
      ],
      "execution_count": null,
      "outputs": [
        {
          "output_type": "stream",
          "text": [
            "np.add(A,B)= [[10 18  4]\n",
            " [14  6  4]]\n",
            "\n",
            "np.sin(A)= [[0. 0. 0.]\n",
            " [0. 0. 0.]\n",
            " [0. 0. 0.]\n",
            " [0. 0. 0.]]\n",
            "\n"
          ],
          "name": "stdout"
        }
      ]
    },
    {
      "cell_type": "markdown",
      "metadata": {
        "id": "yLD7v5FLBPMC"
      },
      "source": [
        "### Generadores de números aleatorios\n",
        "\n",
        "\n"
      ]
    },
    {
      "cell_type": "code",
      "metadata": {
        "id": "hsymFimne2tY",
        "outputId": "db57b581-c8aa-4f72-ce3a-fe28a1ce28b6",
        "colab": {
          "base_uri": "https://localhost:8080/",
          "height": 34
        }
      },
      "source": [
        "#Arreglos de números aleatorios uniformemente distribuidos\n",
        "W=np.random.uniform(size=4)\n",
        "print(W)"
      ],
      "execution_count": null,
      "outputs": [
        {
          "output_type": "stream",
          "text": [
            "[0.8677121  0.20096911 0.59803366 0.10539127]\n"
          ],
          "name": "stdout"
        }
      ]
    },
    {
      "cell_type": "code",
      "metadata": {
        "id": "KV3wM6ANeWJg",
        "outputId": "5ba0cfa5-26c7-4af5-dc14-aa79b6ed4acb",
        "colab": {
          "base_uri": "https://localhost:8080/",
          "height": 68
        }
      },
      "source": [
        "# Arreglos de números aleatorios normalmente distribuidos\n",
        "Y = np.random.normal(size = (3,5))\n",
        "print(Y)"
      ],
      "execution_count": null,
      "outputs": [
        {
          "output_type": "stream",
          "text": [
            "[[-0.94272735 -0.04521501 -0.39305939 -0.13281634 -0.06200822]\n",
            " [-0.64042656  0.71570884  1.98049744 -0.30834497 -0.64711113]\n",
            " [-0.4426638  -0.68713849 -0.34417704 -0.48252396  1.23359879]]\n"
          ],
          "name": "stdout"
        }
      ]
    },
    {
      "cell_type": "code",
      "metadata": {
        "id": "sW5A1TfseZE4",
        "outputId": "23bbf40b-3f02-4d68-8238-4feb24bd096f",
        "colab": {
          "base_uri": "https://localhost:8080/",
          "height": 34
        }
      },
      "source": [
        "# Arreglos de números enteros aleatorios \n",
        "Z = np.random.randint(low=2,high=50,size=4)\n",
        "print(Z)"
      ],
      "execution_count": null,
      "outputs": [
        {
          "output_type": "stream",
          "text": [
            "[39  9 44 36]\n"
          ],
          "name": "stdout"
        }
      ]
    },
    {
      "cell_type": "code",
      "metadata": {
        "id": "_o3MyUAzecSA",
        "outputId": "26bc430a-815f-4164-ec3b-33679a8def3a",
        "colab": {
          "base_uri": "https://localhost:8080/",
          "height": 34
        }
      },
      "source": [
        "# Permutación para de un arreglo \n",
        "print(np.random.permutation(Z))"
      ],
      "execution_count": null,
      "outputs": [
        {
          "output_type": "stream",
          "text": [
            "[44 36  9 39]\n"
          ],
          "name": "stdout"
        }
      ]
    },
    {
      "cell_type": "markdown",
      "metadata": {
        "id": "B2VxoKqVXw1o"
      },
      "source": [
        "### Leer datos de un archivo"
      ]
    },
    {
      "cell_type": "code",
      "metadata": {
        "id": "hRy1DUy2Xw1o"
      },
      "source": [
        "vector_txt = np.genfromtxt(\"https://raw.githubusercontent.com/joanby/python-ml-course/master/datasets/iris/iris.csv\", delimiter=\",\")\n",
        "vector_txt[1:,:4]"
      ],
      "execution_count": null,
      "outputs": []
    },
    {
      "cell_type": "code",
      "metadata": {
        "id": "wAJhPUTwXw1u",
        "outputId": "746055dd-6e59-4d56-dc67-057dcb20f5c3"
      },
      "source": [
        "vector_txt.shape"
      ],
      "execution_count": null,
      "outputs": [
        {
          "output_type": "execute_result",
          "data": {
            "text/plain": [
              "(151, 5)"
            ]
          },
          "metadata": {
            "tags": []
          },
          "execution_count": 97
        }
      ]
    }
  ]
}